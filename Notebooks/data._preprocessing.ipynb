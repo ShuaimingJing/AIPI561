{
 "cells": [
  {
   "cell_type": "code",
   "execution_count": 4,
   "metadata": {},
   "outputs": [],
   "source": [
    "import pandas as pd\n",
    "import numpy as np\n",
    "from googletrans import Translator\n"
   ]
  },
  {
   "cell_type": "code",
   "execution_count": null,
   "metadata": {},
   "outputs": [],
   "source": [
    "df = pd.read_parquet('/Users/shuai/Downloads/train-00000-of-00001 (1).parquet')\n",
    "df = df.drop(columns=['input','title'])"
   ]
  },
  {
   "cell_type": "code",
   "execution_count": 48,
   "metadata": {},
   "outputs": [],
   "source": [
    "df = df.drop(columns=['input','title'])\n",
    "df = df.sample(n=500)\n",
    "\n",
    "# Save the random rows to a new CSV file (optional)\n",
    "df.to_csv('/Users/shuai/Downloads/veterinary.csv', index=False)\n"
   ]
  },
  {
   "cell_type": "code",
   "execution_count": 53,
   "metadata": {},
   "outputs": [],
   "source": [
    "### translate from Korean to English using Google Translate API\n",
    "\n",
    "translator = Translator()\n",
    "\n",
    "# Load the CSV file\n",
    "file_path = '/Users/shuai/Downloads/veterinary.csv'\n",
    "df = pd.read_csv(file_path)\n",
    "\n",
    "# Function to translate text from Korean to English\n",
    "def translate_to_english(text):\n",
    "    try:\n",
    "        # Translate text\n",
    "        translation = translator.translate(text, src='ko', dest='en')\n",
    "        return translation.text\n",
    "    except Exception as e:\n",
    "        # In case of an error, return the original text\n",
    "        print(f\"Error translating '{text}': {e}\")\n",
    "        return text\n",
    "\n",
    "# Apply the translation to each cell\n",
    "for column in df.columns:\n",
    "    df[column] = df[column].astype(str).apply(translate_to_english)\n",
    "\n",
    "# Save the translated dataframe to a new CSV file\n",
    "translated_file_path = '/Users/shuai/Downloads/translated_veterinary.csv'\n",
    "df.to_csv(translated_file_path, index=False)\n",
    "\n",
    "print(f\"Translated CSV saved to {translated_file_path}\")"
   ]
  }
 ],
 "metadata": {
  "kernelspec": {
   "display_name": "base",
   "language": "python",
   "name": "python3"
  },
  "language_info": {
   "codemirror_mode": {
    "name": "ipython",
    "version": 3
   },
   "file_extension": ".py",
   "mimetype": "text/x-python",
   "name": "python",
   "nbconvert_exporter": "python",
   "pygments_lexer": "ipython3",
   "version": "3.12.0"
  }
 },
 "nbformat": 4,
 "nbformat_minor": 2
}
